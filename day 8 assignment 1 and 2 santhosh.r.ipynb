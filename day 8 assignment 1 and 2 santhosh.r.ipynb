{
 "cells": [
  {
   "cell_type": "markdown",
   "metadata": {},
   "source": [
    "# day 8 assign 1"
   ]
  },
  {
   "cell_type": "code",
   "execution_count": 1,
   "metadata": {},
   "outputs": [
    {
     "name": "stdout",
     "output_type": "stream",
     "text": [
      "HOW many terms? 5\n",
      " fibonacci SEQUENCE: \n",
      "0\n",
      "1\n",
      "1\n",
      "2\n",
      "3\n"
     ]
    }
   ],
   "source": [
    "nterms =int(input(\"HOW many terms? \"))\n",
    "n1, n2 = 0,1\n",
    "count = 0\n",
    "if nterms <=0:\n",
    "    print(\"please enter a positive integer\")\n",
    "elif nterms == 1:\n",
    "    print(\"fibonacci SEQUENCE upto\",nterms,\":\")\n",
    "    print(n1)\n",
    "else:\n",
    "    print(\" fibonacci SEQUENCE: \")\n",
    "    while count < nterms:\n",
    "        print(n1)\n",
    "        nth = n1 + n2\n",
    "        # update values\n",
    "        n1 = n2\n",
    "        n2 = nth\n",
    "        count += 1"
   ]
  },
  {
   "cell_type": "markdown",
   "metadata": {},
   "source": [
    "# day 8 assign 2"
   ]
  },
  {
   "cell_type": "code",
   "execution_count": 5,
   "metadata": {},
   "outputs": [],
   "source": [
    "# opeb a binary file\n",
    "file = open(\"binaryfile.txt\",\"w\")\n",
    "file.close()\n"
   ]
  },
  {
   "cell_type": "code",
   "execution_count": 6,
   "metadata": {},
   "outputs": [],
   "source": [
    "#Write data to file\n",
    "file = open(\"binaryfile.txt\",\"w\")\n",
    "file.write(\"i love python\")\n",
    "file.close()"
   ]
  },
  {
   "cell_type": "code",
   "execution_count": 7,
   "metadata": {},
   "outputs": [
    {
     "name": "stdout",
     "output_type": "stream",
     "text": [
      "i love python\n"
     ]
    },
    {
     "data": {
      "text/plain": [
       "<function TextIOWrapper.close()>"
      ]
     },
     "execution_count": 7,
     "metadata": {},
     "output_type": "execute_result"
    }
   ],
   "source": [
    "# to read file\n",
    "file = open(\"binaryfile.txt\",\"r\")\n",
    "sometext = file.read()\n",
    "print(sometext)\n",
    "file.close\n"
   ]
  },
  {
   "cell_type": "code",
   "execution_count": 8,
   "metadata": {},
   "outputs": [],
   "source": [
    "#to add some lines to the file\n",
    "file = open(\"binaryfile.txt\",\"a\")\n",
    "file.write(\"\\n\\n We all love pyton class\")\n",
    "file.close()"
   ]
  },
  {
   "cell_type": "code",
   "execution_count": 9,
   "metadata": {},
   "outputs": [
    {
     "name": "stdout",
     "output_type": "stream",
     "text": [
      "i love python\n",
      "\n",
      " We all love pyton class\n"
     ]
    }
   ],
   "source": [
    "# to read file\n",
    "file = open(\"binaryfile.txt\",\"r\")\n",
    "sometext = file.read()\n",
    "print(sometext)\n",
    "file.close()"
   ]
  },
  {
   "cell_type": "code",
   "execution_count": null,
   "metadata": {},
   "outputs": [],
   "source": []
  },
  {
   "cell_type": "code",
   "execution_count": null,
   "metadata": {},
   "outputs": [],
   "source": []
  }
 ],
 "metadata": {
  "kernelspec": {
   "display_name": "Python 3",
   "language": "python",
   "name": "python3"
  },
  "language_info": {
   "codemirror_mode": {
    "name": "ipython",
    "version": 3
   },
   "file_extension": ".py",
   "mimetype": "text/x-python",
   "name": "python",
   "nbconvert_exporter": "python",
   "pygments_lexer": "ipython3",
   "version": "3.8.3"
  }
 },
 "nbformat": 4,
 "nbformat_minor": 4
}
