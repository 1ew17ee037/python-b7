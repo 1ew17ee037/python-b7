{
 "cells": [
  {
   "cell_type": "code",
   "execution_count": null,
   "metadata": {},
   "outputs": [],
   "source": [
    "class account():\n",
    "\n",
    "    def_init_(self,owner,balance=0):\n",
    "        self.owner = owner\n",
    "        self.balance = balance\n",
    "        \n",
    "def deposit(self,dep_amt):\n",
    "    self.balance += dep_amt\n",
    "    print(\"added {} to the balance\".format(dep_amt))\n",
    "def withdral(self,wd_amt):\n",
    "    \n",
    "    if self.balance >= wd_amt\n",
    "       self.balance -= wd_amt\n",
    "        print(\"withdral accepted\")\n",
    "    else\n",
    "        print(\"sorry no funds\")\n",
    "def_str_(self):\n",
    "    return f\"owner:{self.owner} \\nbalance:{self.balance}\""
   ]
  }
 ],
 "metadata": {
  "kernelspec": {
   "display_name": "Python 3",
   "language": "python",
   "name": "python3"
  },
  "language_info": {
   "codemirror_mode": {
    "name": "ipython",
    "version": 3
   },
   "file_extension": ".py",
   "mimetype": "text/x-python",
   "name": "python",
   "nbconvert_exporter": "python",
   "pygments_lexer": "ipython3",
   "version": "3.8.3"
  }
 },
 "nbformat": 4,
 "nbformat_minor": 4
}
