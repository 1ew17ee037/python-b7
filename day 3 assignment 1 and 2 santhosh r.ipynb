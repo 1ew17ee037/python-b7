{
 "cells": [
  {
   "cell_type": "markdown",
   "metadata": {},
   "source": [
    "# day 3 assignment 1\n"
   ]
  },
  {
   "cell_type": "code",
   "execution_count": null,
   "metadata": {},
   "outputs": [],
   "source": [
    "placecurrentaltitude =int(input(\"enter the altitude -\"))\n",
    "if placecurrentaltitude <=1000:\n",
    "    print(\"safe to land\")\n",
    "elif placecurrentaltitude >1001 and placecurrentaltitude <=5000:\n",
    "    print(\"bring down to 1000\")\n",
    "else:\n",
    "    print(\"turn around and attempt later\")\n",
    "    "
   ]
  },
  {
   "cell_type": "code",
   "execution_count": null,
   "metadata": {},
   "outputs": [],
   "source": [
    "\n",
    "\n",
    "for val in range(1,200):\n",
    "    if val > 1:\n",
    "        for n in range(2, val//2 + 2) :\n",
    "            if (val % n) == 0:\n",
    "                break\n",
    "            else:\n",
    "                if n == val//2 + 1:\n",
    "                    print (val)"
   ]
  },
  {
   "cell_type": "code",
   "execution_count": null,
   "metadata": {},
   "outputs": [],
   "source": []
  },
  {
   "cell_type": "code",
   "execution_count": null,
   "metadata": {},
   "outputs": [],
   "source": []
  }
 ],
 "metadata": {
  "kernelspec": {
   "display_name": "Python 3",
   "language": "python",
   "name": "python3"
  },
  "language_info": {
   "codemirror_mode": {
    "name": "ipython",
    "version": 3
   },
   "file_extension": ".py",
   "mimetype": "text/x-python",
   "name": "python",
   "nbconvert_exporter": "python",
   "pygments_lexer": "ipython3",
   "version": "3.8.3"
  }
 },
 "nbformat": 4,
 "nbformat_minor": 4
}
